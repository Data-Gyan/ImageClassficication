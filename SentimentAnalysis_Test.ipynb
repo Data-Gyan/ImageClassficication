{
  "nbformat": 4,
  "nbformat_minor": 0,
  "metadata": {
    "colab": {
      "provenance": []
    },
    "kernelspec": {
      "name": "python3",
      "display_name": "Python 3"
    },
    "language_info": {
      "name": "python"
    },
    "accelerator": "GPU",
    "gpuClass": "standard"
  },
  "cells": [
    {
      "cell_type": "code",
      "execution_count": 1,
      "metadata": {
        "id": "Rk2sWf0k2dqx"
      },
      "outputs": [],
      "source": [
        "from keras.datasets import imdb\n",
        "from keras.preprocessing.text import Tokenizer\n",
        "from keras.utils import pad_sequences\n",
        "from keras import Sequential\n",
        "from keras.layers import Dense,SimpleRNN,Embedding,Flatten"
      ]
    },
    {
      "cell_type": "code",
      "source": [
        "(X_train,y_train),(X_test,y_test) = imdb.load_data()"
      ],
      "metadata": {
        "id": "ISeVJSFG3QTJ"
      },
      "execution_count": 2,
      "outputs": []
    },
    {
      "cell_type": "code",
      "source": [
        "X_train = pad_sequences(X_train,padding='post', maxlen=200)\n",
        "X_test = pad_sequences(X_test,padding='post', maxlen=200)"
      ],
      "metadata": {
        "id": "xjyn_bFo3rP4"
      },
      "execution_count": 3,
      "outputs": []
    },
    {
      "cell_type": "code",
      "source": [
        "X_train.shape"
      ],
      "metadata": {
        "colab": {
          "base_uri": "https://localhost:8080/"
        },
        "id": "c70aoNUN4QoV",
        "outputId": "5cf0712b-11da-4295-ea46-8aee0e0bce63"
      },
      "execution_count": 4,
      "outputs": [
        {
          "output_type": "execute_result",
          "data": {
            "text/plain": [
              "(25000, 200)"
            ]
          },
          "metadata": {},
          "execution_count": 4
        }
      ]
    },
    {
      "cell_type": "code",
      "source": [
        "model = Sequential()\n",
        "model.add(Embedding(10000, 2))\n",
        "model.add(SimpleRNN(32,return_sequences=False))\n",
        "model.add(Dense(1, activation='sigmoid'))\n",
        "\n",
        "model.summary()"
      ],
      "metadata": {
        "colab": {
          "base_uri": "https://localhost:8080/"
        },
        "id": "3heeYaUG5ZQU",
        "outputId": "d793d9d5-7d25-4c6e-cdef-8662aac66c8b"
      },
      "execution_count": 5,
      "outputs": [
        {
          "output_type": "stream",
          "name": "stdout",
          "text": [
            "Model: \"sequential\"\n",
            "_________________________________________________________________\n",
            " Layer (type)                Output Shape              Param #   \n",
            "=================================================================\n",
            " embedding (Embedding)       (None, None, 2)           20000     \n",
            "                                                                 \n",
            " simple_rnn (SimpleRNN)      (None, 32)                1120      \n",
            "                                                                 \n",
            " dense (Dense)               (None, 1)                 33        \n",
            "                                                                 \n",
            "=================================================================\n",
            "Total params: 21,153\n",
            "Trainable params: 21,153\n",
            "Non-trainable params: 0\n",
            "_________________________________________________________________\n"
          ]
        }
      ]
    },
    {
      "cell_type": "code",
      "source": [
        "model.compile(optimizer='adam', loss='binary_crossentropy', metrics=['acc'])\n",
        "history = model.fit(X_train, y_train, epochs=15, validation_data=(X_test,y_test))\n"
      ],
      "metadata": {
        "colab": {
          "base_uri": "https://localhost:8080/"
        },
        "id": "GsQyRfMG6G6_",
        "outputId": "15d31edb-0702-42c3-80d4-567abf6e5f6e"
      },
      "execution_count": 6,
      "outputs": [
        {
          "output_type": "stream",
          "name": "stdout",
          "text": [
            "Epoch 1/15\n",
            "782/782 [==============================] - 225s 281ms/step - loss: 0.6939 - acc: 0.5112 - val_loss: 0.6931 - val_acc: 0.5093\n",
            "Epoch 2/15\n",
            "782/782 [==============================] - 178s 228ms/step - loss: 0.6887 - acc: 0.5256 - val_loss: 0.6813 - val_acc: 0.5436\n",
            "Epoch 3/15\n",
            "782/782 [==============================] - 180s 230ms/step - loss: 0.6655 - acc: 0.5675 - val_loss: 0.6732 - val_acc: 0.5426\n",
            "Epoch 4/15\n",
            "782/782 [==============================] - 176s 225ms/step - loss: 0.6312 - acc: 0.6137 - val_loss: 0.6394 - val_acc: 0.5926\n",
            "Epoch 5/15\n",
            "782/782 [==============================] - 172s 220ms/step - loss: 0.6576 - acc: 0.6066 - val_loss: 0.6859 - val_acc: 0.5310\n",
            "Epoch 6/15\n",
            "782/782 [==============================] - 176s 225ms/step - loss: 0.6463 - acc: 0.5951 - val_loss: 0.6684 - val_acc: 0.5668\n",
            "Epoch 7/15\n",
            "782/782 [==============================] - 175s 224ms/step - loss: 0.5979 - acc: 0.6401 - val_loss: 0.5760 - val_acc: 0.7163\n",
            "Epoch 8/15\n",
            "782/782 [==============================] - 175s 223ms/step - loss: 0.5643 - acc: 0.6931 - val_loss: 0.6225 - val_acc: 0.6550\n",
            "Epoch 9/15\n",
            "782/782 [==============================] - 174s 223ms/step - loss: 0.4977 - acc: 0.7772 - val_loss: 0.5618 - val_acc: 0.7281\n",
            "Epoch 10/15\n",
            "782/782 [==============================] - 172s 220ms/step - loss: 0.4481 - acc: 0.8088 - val_loss: 0.5331 - val_acc: 0.7676\n",
            "Epoch 11/15\n",
            "782/782 [==============================] - 172s 220ms/step - loss: 0.5388 - acc: 0.7161 - val_loss: 0.6057 - val_acc: 0.6991\n",
            "Epoch 12/15\n",
            "782/782 [==============================] - 166s 213ms/step - loss: 0.5512 - acc: 0.6794 - val_loss: 0.6871 - val_acc: 0.5496\n",
            "Epoch 13/15\n",
            "782/782 [==============================] - 164s 210ms/step - loss: 0.5496 - acc: 0.6720 - val_loss: 0.5411 - val_acc: 0.7666\n",
            "Epoch 14/15\n",
            "782/782 [==============================] - 171s 219ms/step - loss: 0.4507 - acc: 0.8021 - val_loss: 0.6673 - val_acc: 0.6203\n",
            "Epoch 15/15\n",
            "782/782 [==============================] - 170s 218ms/step - loss: 0.5186 - acc: 0.7257 - val_loss: 0.7232 - val_acc: 0.5368\n"
          ]
        }
      ]
    }
  ]
}